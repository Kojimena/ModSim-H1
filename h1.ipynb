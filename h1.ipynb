{
 "cells": [
  {
   "cell_type": "markdown",
   "metadata": {},
   "source": [
    "# Hoja de Trabajo 1\n",
    "\n",
    "- Jimena Hernández - 21199\n",
    "- Mark Albrand - 21004"
   ]
  },
  {
   "cell_type": "markdown",
   "metadata": {},
   "source": [
    "## Ejercicio 2\n",
    "\n",
    "𝑓(𝑥) = 𝑥 * 𝑠𝑖𝑛(10π𝑥) + 1, [0,1]"
   ]
  },
  {
   "cell_type": "markdown",
   "metadata": {},
   "source": [
    "#### Mediante el uso de algoritmos genéticos, resuelva el siguiente ejercicio. Implemente un algoritmo genético en Python para encontrar el valor máximo de la función f(x) = x * sin(10 πx) + 1"
   ]
  },
  {
   "cell_type": "code",
   "execution_count": 55,
   "metadata": {},
   "outputs": [],
   "source": [
    "import numpy as np\n",
    "\n",
    "def objetivo(x):\n",
    "    '''Función objetivo a minimizar'''\n",
    "    return x * np.sin(10 * np.pi * x) + 1.0\n",
    "\n",
    "def poblacion_inicial(size, min, max):  # 0 y 1 son los límites inferior y superior de la función objetivo\n",
    "    '''Genera una población inicial de n individuos'''\n",
    "    return np.random.uniform(min, max, size)\n",
    "\n",
    "def evaluar_aptitud(poblacion):\n",
    "    '''Evalúa la aptitud de una población de individuos'''\n",
    "    return objetivo(poblacion)\n",
    "\n",
    "def seleccion(poblacion, aptitud, n):\n",
    "    '''Selecciona n individuos de la población mediante torneo binario'''\n",
    "    seleccionados = np.zeros(n)\n",
    "    for i in range(n):\n",
    "        # Se recorre la población\n",
    "        idx = np.random.randint(0, len(poblacion), 2) # Selecciona dos individuos al azar\n",
    "        if aptitud[idx[0]] > aptitud[idx[1]]:  # Selección por torneo binario\n",
    "            seleccionados[i] = poblacion[idx[0]]\n",
    "        else:\n",
    "            seleccionados[i] = poblacion[idx[1]]\n",
    "    return seleccionados\n",
    "\n",
    "def cruce(padres, pc):\n",
    "    '''Cruza los padres mediante cruce aritmético'''\n",
    "    hijos = np.zeros(len(padres))\n",
    "    for i in range(0, len(padres) - 1, 2):\n",
    "        if np.random.rand() < pc:\n",
    "            hijos[i] = 0.5 * (padres[i] + padres[i + 1])\n",
    "            hijos[i + 1] = 0.5 * (padres[i] + padres[i + 1])\n",
    "        else:\n",
    "            hijos[i] = padres[i]\n",
    "            hijos[i + 1] = padres[i + 1]\n",
    "    if len(padres) % 2 == 1:\n",
    "        hijos[-1] = padres[-1]\n",
    "    return hijos\n",
    "\n",
    "def mutacion(hijos, pm, min, max):\n",
    "    '''Aplica una mutación uniforme a los hijos'''\n",
    "    for i in range(len(hijos)):\n",
    "        if np.random.rand() < pm:\n",
    "            hijos[i] = np.random.uniform(min, max)\n",
    "    return hijos\n",
    "\n",
    "def reemplazo(poblacion, hijos):\n",
    "    '''Reemplaza por nueva población reemplazando algunos individuos antiguos por otros nuevos generados por cruce y mutación '''\n",
    "    nueva_poblacion = np.concatenate((poblacion, hijos))\n",
    "    nueva_aptitud = evaluar_aptitud(nueva_poblacion)\n",
    "    idx = np.argsort(-nueva_aptitud)\n",
    "    return nueva_poblacion[idx[:len(poblacion)]]\n",
    "\n",
    "def algoritmo_genetico(size, min, max, generaciones, pc, pm):\n",
    "    '''Algoritmo genético para optimización de funciones'''\n",
    "    poblacion = poblacion_inicial(size, min, max)\n",
    "    mejores = [] # Guardar el mejor individuo de cada generación\n",
    "\n",
    "    for _ in range(generaciones):\n",
    "        aptitud = evaluar_aptitud(poblacion)\n",
    "        padres = seleccion(poblacion, aptitud, size)\n",
    "        hijos = cruce(padres, pc)\n",
    "        hijos = mutacion(hijos, pm, min, max)\n",
    "        poblacion = reemplazo(poblacion, hijos)\n",
    "        aptitud = evaluar_aptitud(poblacion)  # Recalcular la aptitud después del reemplazo\n",
    "        mejores.append(np.max(aptitud))\n",
    "\n",
    "    return poblacion, mejores"
   ]
  },
  {
   "cell_type": "code",
   "execution_count": 58,
   "metadata": {},
   "outputs": [
    {
     "name": "stdout",
     "output_type": "stream",
     "text": [
      "Mejor solución: 0.8505722721199561\n",
      "Mejor aptitud: 1.8504348127181602\n"
     ]
    }
   ],
   "source": [
    "size = 20 # Tamaño de la población\n",
    "min_val = 0.0 # Límite inferior del dominio\n",
    "max_val = 1.0 # Límite superior del dominio\n",
    "generaciones = 100 # Número de generaciones\n",
    "pc = 0.8 # Probabilidad de cruce\n",
    "pm = 0.1 # Probabilidad de mutación\n",
    "\n",
    "# Ejecutar el algoritmo genético\n",
    "poblacion_final, mejores = algoritmo_genetico(size, min_val, max_val, generaciones, pc, pm)\n",
    "\n",
    "\n",
    "print(f\"Mejor solución: {poblacion_final[np.argmax(evaluar_aptitud(poblacion_final))]}\")\n",
    "print(f\"Mejor aptitud: {np.max(evaluar_aptitud(poblacion_final))}\")"
   ]
  },
  {
   "cell_type": "code",
   "execution_count": 59,
   "metadata": {},
   "outputs": [
    {
     "data": {
      "image/png": "[encoded data removed]",
      "text/plain": [
       "<Figure size 640x480 with 1 Axes>"
      ]
     },
     "metadata": {},
     "output_type": "display_data"
    }
   ],
   "source": [
    "# Visualización de la evolución de la mejor aptitud\n",
    "import matplotlib.pyplot as plt\n",
    "\n",
    "plt.plot(mejores)\n",
    "plt.xlabel('Generación')\n",
    "plt.ylabel('Mejor Aptitud')\n",
    "plt.title('Evolución de la mejor aptitud a lo largo de las generaciones')\n",
    "plt.show()"
   ]
  }
 ],
 "metadata": {
  "kernelspec": {
   "display_name": "Python 3",
   "language": "python",
   "name": "python3"
  },
  "language_info": {
   "codemirror_mode": {
    "name": "ipython",
    "version": 3
   },
   "file_extension": ".py",
   "mimetype": "text/x-python",
   "name": "python",
   "nbconvert_exporter": "python",
   "pygments_lexer": "ipython3",
   "version": "3.11.4"
  }
 },
 "nbformat": 4,
 "nbformat_minor": 2
}
